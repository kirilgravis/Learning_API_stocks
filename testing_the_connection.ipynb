{
 "cells": [
  {
   "cell_type": "markdown",
   "id": "0273391c-0b24-40ee-b48d-15db0f245fd8",
   "metadata": {},
   "source": [
    "# API"
   ]
  },
  {
   "cell_type": "code",
   "execution_count": 1,
   "id": "3c5ba202-f8d5-41fa-a8c8-f8df21d05862",
   "metadata": {},
   "outputs": [],
   "source": [
    "# Importing the api and instantiating the rest client according to our keys\n",
    "import alpaca_trade_api as api\n",
    "\n",
    "API_KEY = \"PKAB7Y5F7UP7JBOV291B\"\n",
    "API_SECRET = \"IoDomaEBGXx8vjjGd33XgISf3Erk98G3SswEUxMx\"\n",
    "BASE_URL = \"https://paper-api.alpaca.markets\"\n",
    "\n",
    "alpaca_client = api.REST(API_KEY, API_SECRET, BASE_URL)"
   ]
  },
  {
   "cell_type": "code",
   "execution_count": 3,
   "id": "4a2ad9cd-01ab-4003-a019-ee26f059fafb",
   "metadata": {},
   "outputs": [],
   "source": [
    "# Setting parameters before making request\n",
    "symbol = \"BTCUSD\"\n",
    "timeframe = \"1Day\"\n",
    "start = \"2022-01-01\"\n",
    "end = \"2022-01-31\""
   ]
  },
  {
   "cell_type": "code",
   "execution_count": 4,
   "id": "8211ae6f-bad2-46bf-a45a-9c0c546f8775",
   "metadata": {},
   "outputs": [
    {
     "name": "stdout",
     "output_type": "stream",
     "text": [
      "                          exchange      open      high       low     close  \\\n",
      "timestamp                                                                    \n",
      "2022-01-01 06:00:00+00:00     CBSE  47188.00  47951.21  46690.00  47093.40   \n",
      "2022-01-01 06:00:00+00:00     ERSX  47004.40  47832.30  46823.80  46904.50   \n",
      "2022-01-01 06:00:00+00:00     FTXU  47218.00  47933.00  46733.00  47033.00   \n",
      "2022-01-02 06:00:00+00:00     CBSE  47095.58  47960.12  46714.91  47090.32   \n",
      "2022-01-02 06:00:00+00:00     ERSX  47212.70  47929.70  46737.90  47079.20   \n",
      "\n",
      "                                volume  trade_count          vwap  \n",
      "timestamp                                                          \n",
      "2022-01-01 06:00:00+00:00  6118.650421       298030  47295.920139  \n",
      "2022-01-01 06:00:00+00:00    16.900700           40  47429.231828  \n",
      "2022-01-01 06:00:00+00:00   654.701300         3435  47287.231933  \n",
      "2022-01-02 06:00:00+00:00  5247.180306       273283  47139.189247  \n",
      "2022-01-02 06:00:00+00:00    87.372500           84  46998.245299  \n"
     ]
    }
   ],
   "source": [
    "# Retrieve daily bars for Bitcoin in a DataFrame and printing the first 5 rows\n",
    "btc_bars = alpaca_client.get_crypto_bars(symbol, timeframe, start, end).df\n",
    "print(btc_bars.head())"
   ]
  },
  {
   "cell_type": "code",
   "execution_count": 8,
   "id": "c84d0ff5-2693-46f3-84a2-25e0a2bace3a",
   "metadata": {},
   "outputs": [
    {
     "data": {
      "text/plain": [
       "93"
      ]
     },
     "execution_count": 8,
     "metadata": {},
     "output_type": "execute_result"
    }
   ],
   "source": [
    "len(btc_bars)"
   ]
  },
  {
   "cell_type": "markdown",
   "id": "fb849c85-1e50-436e-87e6-e0459fb658e7",
   "metadata": {},
   "source": [
    "# Hictorical"
   ]
  },
  {
   "cell_type": "markdown",
   "id": "f3ffd527-6e44-4aad-a6cd-43d20ef82d4a",
   "metadata": {},
   "source": [
    "https://alpaca.markets/docs/python-sdk/market_data.html#market-data"
   ]
  },
  {
   "cell_type": "markdown",
   "id": "2fdf3c2b-1443-4f38-84be-634d8b39780c",
   "metadata": {},
   "source": [
    "## Crypto"
   ]
  },
  {
   "cell_type": "code",
   "execution_count": 13,
   "id": "6ddfba53-4a89-4890-aa33-a5c17f4fa5b0",
   "metadata": {},
   "outputs": [],
   "source": [
    "from alpaca.data.historical import CryptoHistoricalDataClient\n",
    "from alpaca.data.requests import CryptoBarsRequest\n",
    "from alpaca.data.timeframe import TimeFrame"
   ]
  },
  {
   "cell_type": "code",
   "execution_count": 16,
   "id": "42f71396-4df8-4816-941b-6731cb129297",
   "metadata": {},
   "outputs": [
    {
     "data": {
      "text/plain": [
       "BarSet(data={'BTC/USD': [Bar(symbol='BTC/USD', timestamp=datetime.datetime(2022, 8, 26, 5, 0, tzinfo=datetime.timezone.utc), open=21531.0, high=21877.0, low=20117.0, close=20151.0, volume=3745.6847, trade_count=24944.0, vwap=20986.7262497829), Bar(symbol='BTC/USD', timestamp=datetime.datetime(2022, 8, 27, 5, 0, tzinfo=datetime.timezone.utc), open=20149.0, high=20276.0, low=19814.0, close=19992.0, volume=1336.9996, trade_count=14060.0, vwap=20029.2902198325), Bar(symbol='BTC/USD', timestamp=datetime.datetime(2022, 8, 28, 5, 0, tzinfo=datetime.timezone.utc), open=19993.0, high=20155.0, low=19518.0, close=19804.0, volume=1313.2786, trade_count=12284.0, vwap=19853.1759967002), Bar(symbol='BTC/USD', timestamp=datetime.datetime(2022, 8, 29, 5, 0, tzinfo=datetime.timezone.utc), open=19805.0, high=19920.0, low=19745.0, close=19795.0, volume=106.3085, trade_count=2531.0, vwap=19840.9889331521)], 'ETH/USD': [Bar(symbol='ETH/USD', timestamp=datetime.datetime(2022, 8, 26, 5, 0, tzinfo=datetime.timezone.utc), open=1682.3, high=1708.1, low=1483.2, close=1493.7, volume=112998.855, trade_count=52727.0, vwap=1607.6302903379), Bar(symbol='ETH/USD', timestamp=datetime.datetime(2022, 8, 27, 5, 0, tzinfo=datetime.timezone.utc), open=1493.5, high=1512.7, low=1446.5, close=1487.3, volume=36290.87, trade_count=27941.0, vwap=1487.699540383), Bar(symbol='ETH/USD', timestamp=datetime.datetime(2022, 8, 28, 5, 0, tzinfo=datetime.timezone.utc), open=1487.4, high=1503.8, low=1421.2, close=1449.8, volume=38199.113, trade_count=33395.0, vwap=1462.0055342646), Bar(symbol='ETH/USD', timestamp=datetime.datetime(2022, 8, 29, 5, 0, tzinfo=datetime.timezone.utc), open=1450.0, high=1459.1, low=1439.8, close=1445.5, volume=3608.884, trade_count=8268.0, vwap=1448.8847500502)]})"
      ]
     },
     "execution_count": 16,
     "metadata": {},
     "output_type": "execute_result"
    }
   ],
   "source": [
    "# no keys required for crypto data\n",
    "client = CryptoHistoricalDataClient()\n",
    "\n",
    "request_params = CryptoBarsRequest(\n",
    "                        symbol_or_symbols=[\"BTC/USD\", \"ETH/USD\"],\n",
    "                        timeframe=TimeFrame.Day,\n",
    "                        start=\"2022-08-26\"\n",
    "                 )\n",
    "\n",
    "bars = client.get_crypto_bars(request_params)\n",
    "bars"
   ]
  },
  {
   "cell_type": "markdown",
   "id": "f65d20e4-ccd9-499c-b03d-51b025e96561",
   "metadata": {},
   "source": [
    "## Stocks"
   ]
  },
  {
   "cell_type": "code",
   "execution_count": 27,
   "id": "0c470b60-e7b4-4eb3-9dad-3763146866e9",
   "metadata": {},
   "outputs": [],
   "source": [
    "from alpaca.data import StockHistoricalDataClient\n",
    "from alpaca.data.requests import StockLatestQuoteRequest\n",
    "import alpaca.data"
   ]
  },
  {
   "cell_type": "code",
   "execution_count": 20,
   "id": "57f1ee71-8b8b-4fde-927f-a5f15f424695",
   "metadata": {},
   "outputs": [],
   "source": [
    "# keys required for stock historical data client\n",
    "stock_client = StockHistoricalDataClient(API_KEY,  API_SECRET)"
   ]
  },
  {
   "cell_type": "code",
   "execution_count": 21,
   "id": "aca6012b-6ad9-4109-a3d2-717766da70ad",
   "metadata": {},
   "outputs": [],
   "source": [
    "# multi symbol request - single symbol is similar\n",
    "multisymbol_request_params = StockLatestQuoteRequest(symbol_or_symbols=[\"SPY\", \"GLD\", \"TLT\"])"
   ]
  },
  {
   "cell_type": "code",
   "execution_count": 23,
   "id": "3abfadf2-9c1c-488e-96fe-01bb461116a0",
   "metadata": {},
   "outputs": [],
   "source": [
    "latest_multisymbol_quotes = stock_client.get_stock_latest_quote(multisymbol_request_params)"
   ]
  },
  {
   "cell_type": "code",
   "execution_count": 25,
   "id": "4f33dd7b-2372-4dda-b918-96270484dc14",
   "metadata": {},
   "outputs": [
    {
     "data": {
      "text/plain": [
       "{'SPY': Quote(symbol='SPY', timestamp=datetime.datetime(2022, 8, 26, 20, 37, 4, 272562, tzinfo=datetime.timezone.utc), ask_exchange='V', ask_price=405.3, ask_size=2.0, bid_exchange='V', bid_price=404.02, bid_size=1.0, conditions=['R'], tape='B'),\n",
       " 'TLT': Quote(symbol='TLT', timestamp=datetime.datetime(2022, 8, 26, 20, 20, 1, 604, tzinfo=datetime.timezone.utc), ask_exchange='V', ask_price=113.7, ask_size=13.0, bid_exchange='V', bid_price=113.61, bid_size=13.0, conditions=['R'], tape='C'),\n",
       " 'GLD': Quote(symbol='GLD', timestamp=datetime.datetime(2022, 8, 26, 20, 8, 41, 467425, tzinfo=datetime.timezone.utc), ask_exchange='V', ask_price=161.87, ask_size=1.0, bid_exchange='V', bid_price=161.78, bid_size=1.0, conditions=['R'], tape='B')}"
      ]
     },
     "execution_count": 25,
     "metadata": {},
     "output_type": "execute_result"
    }
   ],
   "source": [
    "latest_multisymbol_quotes"
   ]
  },
  {
   "cell_type": "code",
   "execution_count": 26,
   "id": "79e09888-1568-467d-b9da-e1daf0c6526e",
   "metadata": {},
   "outputs": [
    {
     "data": {
      "text/plain": [
       "161.87"
      ]
     },
     "execution_count": 26,
     "metadata": {},
     "output_type": "execute_result"
    }
   ],
   "source": [
    "latest_multisymbol_quotes[\"GLD\"].ask_price"
   ]
  },
  {
   "cell_type": "markdown",
   "id": "c9d1f62b-9455-4de5-99bf-aafb2810b81c",
   "metadata": {},
   "source": [
    "### Another methods to be found"
   ]
  },
  {
   "cell_type": "code",
   "execution_count": null,
   "id": "6096b6cb-50c3-48db-b6e4-ef71f32062ea",
   "metadata": {},
   "outputs": [],
   "source": [
    "alpaca.data."
   ]
  },
  {
   "cell_type": "markdown",
   "id": "f8d7d6f8-d033-44f7-8fbb-fa31910bbee4",
   "metadata": {},
   "source": [
    "# Real time data"
   ]
  },
  {
   "cell_type": "code",
   "execution_count": null,
   "id": "8f7da96e-355a-4b2b-96c0-0970fcf74d96",
   "metadata": {},
   "outputs": [],
   "source": [
    "## Works only "
   ]
  },
  {
   "cell_type": "markdown",
   "id": "a9edb988-902c-4e52-b357-a9f51409af05",
   "metadata": {},
   "source": [
    "## Stocks"
   ]
  },
  {
   "cell_type": "code",
   "execution_count": 2,
   "id": "d607ed21-125f-48a9-84ac-2a1e41070557",
   "metadata": {},
   "outputs": [],
   "source": [
    "from alpaca.data import StockDataStream"
   ]
  },
  {
   "cell_type": "code",
   "execution_count": 3,
   "id": "bfc34c71-67f9-48c3-9228-98fb14cd3363",
   "metadata": {},
   "outputs": [],
   "source": [
    "# keys required\n",
    "stock_stream = StockDataStream(API_KEY, API_SECRET)"
   ]
  },
  {
   "cell_type": "code",
   "execution_count": 4,
   "id": "1f7447d4-d902-4b51-8a55-3534c1d3dfab",
   "metadata": {},
   "outputs": [],
   "source": [
    "# async handler\n",
    "async def quote_data_handler(data: any):\n",
    "    # quote data will arrive here\n",
    "    print(data)"
   ]
  },
  {
   "cell_type": "code",
   "execution_count": 5,
   "id": "0f654707-2fb2-42ca-b4f4-7bd2ce158c49",
   "metadata": {},
   "outputs": [],
   "source": [
    "stock_stream.subscribe_quotes(quote_data_handler, \"SPY\")"
   ]
  },
  {
   "cell_type": "code",
   "execution_count": 9,
   "id": "b35eeeb7-e495-4ec4-aaa9-372e3df3e237",
   "metadata": {},
   "outputs": [
    {
     "ename": "RuntimeError",
     "evalue": "asyncio.run() cannot be called from a running event loop",
     "output_type": "error",
     "traceback": [
      "\u001b[1;31m---------------------------------------------------------------------------\u001b[0m",
      "\u001b[1;31mRuntimeError\u001b[0m                              Traceback (most recent call last)",
      "\u001b[1;32m~\\AppData\\Local\\Temp/ipykernel_9032/127690046.py\u001b[0m in \u001b[0;36m<module>\u001b[1;34m\u001b[0m\n\u001b[1;32m----> 1\u001b[1;33m \u001b[0mstock_stream\u001b[0m\u001b[1;33m.\u001b[0m\u001b[0mrun\u001b[0m\u001b[1;33m(\u001b[0m\u001b[1;33m)\u001b[0m\u001b[1;33m\u001b[0m\u001b[1;33m\u001b[0m\u001b[0m\n\u001b[0m",
      "\u001b[1;32m~\\anaconda3\\envs\\Trading_model_first_trying-master\\lib\\site-packages\\alpaca\\common\\websocket.py\u001b[0m in \u001b[0;36mrun\u001b[1;34m(self)\u001b[0m\n\u001b[0;32m    430\u001b[0m         \u001b[1;34m\"\"\"Starts up the websocket connection's event loop\"\"\"\u001b[0m\u001b[1;33m\u001b[0m\u001b[1;33m\u001b[0m\u001b[0m\n\u001b[0;32m    431\u001b[0m         \u001b[1;32mtry\u001b[0m\u001b[1;33m:\u001b[0m\u001b[1;33m\u001b[0m\u001b[1;33m\u001b[0m\u001b[0m\n\u001b[1;32m--> 432\u001b[1;33m             \u001b[0masyncio\u001b[0m\u001b[1;33m.\u001b[0m\u001b[0mrun\u001b[0m\u001b[1;33m(\u001b[0m\u001b[0mself\u001b[0m\u001b[1;33m.\u001b[0m\u001b[0m_run_forever\u001b[0m\u001b[1;33m(\u001b[0m\u001b[1;33m)\u001b[0m\u001b[1;33m)\u001b[0m\u001b[1;33m\u001b[0m\u001b[1;33m\u001b[0m\u001b[0m\n\u001b[0m\u001b[0;32m    433\u001b[0m         \u001b[1;32mexcept\u001b[0m \u001b[0mKeyboardInterrupt\u001b[0m\u001b[1;33m:\u001b[0m\u001b[1;33m\u001b[0m\u001b[1;33m\u001b[0m\u001b[0m\n\u001b[0;32m    434\u001b[0m             \u001b[0mprint\u001b[0m\u001b[1;33m(\u001b[0m\u001b[1;34m\"keyboard interrupt, bye\"\u001b[0m\u001b[1;33m)\u001b[0m\u001b[1;33m\u001b[0m\u001b[1;33m\u001b[0m\u001b[0m\n",
      "\u001b[1;32m~\\anaconda3\\envs\\Trading_model_first_trying-master\\lib\\asyncio\\runners.py\u001b[0m in \u001b[0;36mrun\u001b[1;34m(main, debug)\u001b[0m\n\u001b[0;32m     32\u001b[0m     \u001b[1;32mif\u001b[0m \u001b[0mevents\u001b[0m\u001b[1;33m.\u001b[0m\u001b[0m_get_running_loop\u001b[0m\u001b[1;33m(\u001b[0m\u001b[1;33m)\u001b[0m \u001b[1;32mis\u001b[0m \u001b[1;32mnot\u001b[0m \u001b[1;32mNone\u001b[0m\u001b[1;33m:\u001b[0m\u001b[1;33m\u001b[0m\u001b[1;33m\u001b[0m\u001b[0m\n\u001b[0;32m     33\u001b[0m         raise RuntimeError(\n\u001b[1;32m---> 34\u001b[1;33m             \"asyncio.run() cannot be called from a running event loop\")\n\u001b[0m\u001b[0;32m     35\u001b[0m \u001b[1;33m\u001b[0m\u001b[0m\n\u001b[0;32m     36\u001b[0m     \u001b[1;32mif\u001b[0m \u001b[1;32mnot\u001b[0m \u001b[0mcoroutines\u001b[0m\u001b[1;33m.\u001b[0m\u001b[0miscoroutine\u001b[0m\u001b[1;33m(\u001b[0m\u001b[0mmain\u001b[0m\u001b[1;33m)\u001b[0m\u001b[1;33m:\u001b[0m\u001b[1;33m\u001b[0m\u001b[1;33m\u001b[0m\u001b[0m\n",
      "\u001b[1;31mRuntimeError\u001b[0m: asyncio.run() cannot be called from a running event loop"
     ]
    }
   ],
   "source": [
    "stock_stream.run()"
   ]
  },
  {
   "cell_type": "markdown",
   "id": "9373f038-c874-4bf1-b138-2bef9c4abf89",
   "metadata": {},
   "source": [
    "## Crypto"
   ]
  },
  {
   "cell_type": "code",
   "execution_count": 29,
   "id": "14a0c155-fd62-4230-aadc-38908294f691",
   "metadata": {},
   "outputs": [],
   "source": [
    "from alpaca.data import CryptoDataStream"
   ]
  },
  {
   "cell_type": "code",
   "execution_count": 30,
   "id": "e22e3217-4bbb-421d-952f-35d3d37c1423",
   "metadata": {},
   "outputs": [],
   "source": [
    "# keys are required for live data\n",
    "crypto_stream = CryptoDataStream(API_KEY, API_SECRET)"
   ]
  },
  {
   "cell_type": "code",
   "execution_count": null,
   "id": "945b177c-aabe-4c24-8c02-82b4560151aa",
   "metadata": {},
   "outputs": [],
   "source": [
    "# async handler\n",
    "async def quote_data_handler(data: any):\n",
    "    # quote data will arrive here\n",
    "    print(data)\n",
    "\n",
    "crypto_stream.subscribe_quotes(quote_data_handler, \"BTC/USD\")\n",
    "\n",
    "crypto_stream.run()"
   ]
  },
  {
   "cell_type": "code",
   "execution_count": 36,
   "id": "8d9b7ea5-b472-44ae-8d0c-d3c1841a6ff9",
   "metadata": {},
   "outputs": [
    {
     "data": {
      "text/plain": [
       "['PKAB7Y5F7UP7JBOV291B\\n', 'IoDomaEBGXx8vjjGd33XgISf3Erk98G3SswEUxMx']"
      ]
     },
     "execution_count": 36,
     "metadata": {},
     "output_type": "execute_result"
    }
   ],
   "source": [
    "open('keys.txt', 'r').readlines()"
   ]
  },
  {
   "cell_type": "code",
   "execution_count": 38,
   "id": "d053618c-ddb7-4f6b-9075-5a32c8d31ba2",
   "metadata": {},
   "outputs": [
    {
     "data": {
      "text/plain": [
       "['PKAB7Y5F7UP7JBOV291B', 'IoDomaEBGXx8vjjGd33XgISf3Erk98G3SswEUxMx']"
      ]
     },
     "execution_count": 38,
     "metadata": {},
     "output_type": "execute_result"
    }
   ],
   "source": [
    "keys = [x.strip() for x in open('keys.txt', 'r').readlines()]\n",
    "grades"
   ]
  },
  {
   "cell_type": "code",
   "execution_count": null,
   "id": "e8fdbc1e-bcd7-4914-8d92-010830d5e8fd",
   "metadata": {},
   "outputs": [],
   "source": []
  }
 ],
 "metadata": {
  "kernelspec": {
   "display_name": "Python 3 (ipykernel)",
   "language": "python",
   "name": "python3"
  },
  "language_info": {
   "codemirror_mode": {
    "name": "ipython",
    "version": 3
   },
   "file_extension": ".py",
   "mimetype": "text/x-python",
   "name": "python",
   "nbconvert_exporter": "python",
   "pygments_lexer": "ipython3",
   "version": "3.7.7"
  }
 },
 "nbformat": 4,
 "nbformat_minor": 5
}
